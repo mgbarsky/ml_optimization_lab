{
 "cells": [
  {
   "cell_type": "markdown",
   "metadata": {},
   "source": [
    "## 1. Optimizations\n",
    "Go over the implementation of the optimization algorithms discussed in the lecture, and run all the corresponding code cells."
   ]
  },
  {
   "cell_type": "code",
   "execution_count": 1,
   "metadata": {},
   "outputs": [],
   "source": [
    "import random\n",
    "import math"
   ]
  },
  {
   "cell_type": "markdown",
   "metadata": {},
   "source": [
    "### 1.1. Random optimization\n",
    "Optimizes overall fitness score by creating $n$ random guesses and selecting the best."
   ]
  },
  {
   "cell_type": "code",
   "execution_count": 2,
   "metadata": {},
   "outputs": [],
   "source": [
    "def random_optimize(domain,  fitness_function, n=9999):    \n",
    "    best_score = None\n",
    "    best_sol = None\n",
    "    for iter in range(n):\n",
    "        # Create a random solution\n",
    "        # domain[i] represents a range of all valid choices for position i\n",
    "        r=[random.randint(domain[i][0],domain[i][1])\n",
    "                      for i in range(len(domain))]        \n",
    "    \n",
    "        # Get the cost\n",
    "        cost=fitness_function(r)\n",
    "    \n",
    "        # Compare it to the best one so far\n",
    "        if best_score is None or cost < best_score:\n",
    "            best_score = cost\n",
    "            best_sol = r\n",
    "\n",
    "    return (best_sol, best_score, n)"
   ]
  },
  {
   "cell_type": "markdown",
   "metadata": {},
   "source": [
    "### 1.2. Hill climbing optimization\n",
    "Starts from a random point in solution space, and moves into a direction of a neighboring solution with the better score, until no more such solutions can be found. Often finds a local minimum instead of the global one.\n",
    "\n",
    "For each position in the solution, the *domain* contains a valid min and max. This prevents from considering invalid solutions."
   ]
  },
  {
   "cell_type": "code",
   "execution_count": 3,
   "metadata": {},
   "outputs": [],
   "source": [
    "def hillclimb_optimize(domain, fitness_function):\n",
    "    # Create an initial random solution\n",
    "    best_sol=[random.randint(domain[i][0],domain[i][1])\n",
    "              for i in range(len(domain))]\n",
    "\n",
    "    # Main loop: until no better neighbors\n",
    "    iterations = 0\n",
    "    while 1:\n",
    "        best_score=fitness_function(best_sol)        \n",
    "        current_score = best_score\n",
    "        \n",
    "        iterations += 1\n",
    "        \n",
    "        # Create list of all neighboring solutions\n",
    "        neighbors=[]\n",
    "\n",
    "        for j in range(len(domain)):\n",
    "            # One away in each direction\n",
    "            # if current best-SOl[j] is not the smallest in the domain \n",
    "            # - we can subtract 1\n",
    "            if best_sol[j]>domain[j][0]: \n",
    "                neighbors.append(best_sol[0:j]+[best_sol[j]-1]+best_sol[j+1:])\n",
    "            # if current best-SOl[j] is not the largest in the domain \n",
    "            # - we can add 1 \n",
    "            if best_sol[j]< domain[j][1]:\n",
    "                neighbors.append(best_sol[0:j]+[best_sol[j]+1]+best_sol[j+1:])\n",
    "\n",
    "        # See what the best solution amongst the neighbors is        \n",
    "        for j in range(len(neighbors)):\n",
    "            cost = fitness_function(neighbors[j])\n",
    "            if cost < best_score:\n",
    "                best_score = cost\n",
    "                best_sol = neighbors[j]\n",
    "\n",
    "        # If there's no improvement, then we've reached the local min\n",
    "        if best_score == current_score:\n",
    "            break\n",
    "            \n",
    "        if best_score == 0:\n",
    "            break\n",
    "\n",
    "    return (best_sol, best_score, iterations)"
   ]
  },
  {
   "cell_type": "markdown",
   "metadata": {},
   "source": [
    "### 1.3. Simulated annealing optimization\n",
    "We start with a random point in the search space as before. We generate a random neighbor. If the score of the neighbor is better than the current score - we replace current solution with it. If the score is worse - we still can accept the solution, depending on the phase of the algorithm, reflected in the decreasing value of temperature $T$. In the beginning we set the temperature high, and the probability of selecting worse solution is higher. This allows to better explore the search space and get out of the local minimum. The temperature gradually decreases, and so at the end we do not accept worse solutions.\n",
    "\n",
    "The criterion of accepting ''bad'' solutions is given by the following formula:\n",
    "\n",
    "$p=e^{\\frac{-\\Delta F}{T}}>R(0,1)$\n",
    "\n",
    "where $T$ is the current temperature, $R(0,1)$ is a random number between $0$ and $1$, and $\\Delta F$ is the difference between the fitness score of new solution and the old solution."
   ]
  },
  {
   "cell_type": "code",
   "execution_count": 4,
   "metadata": {},
   "outputs": [],
   "source": [
    "def annealing_optimize(domain, fitness_function,\n",
    "                      T=10000.0,cool=0.95,step=1):\n",
    "    # Create an initial random solution\n",
    "    best_sol =[random.randint(domain[i][0],domain[i][1])\n",
    "              for i in range(len(domain))]\n",
    "    \n",
    "    iterations = 0\n",
    "    while T > 0.1:\n",
    "        iterations += 1\n",
    "        \n",
    "        # Choose one of the indices at random\n",
    "        i = random.randint(0,len(domain)-1) #randint selects INCLUDING the max\n",
    "\n",
    "        # Choose a random direction to change it\n",
    "        dir = random.randint(-step,step)\n",
    "\n",
    "        # Create a new solution with one of the values changed into a random direction\n",
    "        sol_b = best_sol[:]\n",
    "        sol_b [i] += dir\n",
    "        \n",
    "        # check that it is within allowed domain\n",
    "        # if sol_b[i] smaller than the min allowed value\n",
    "        # replace it with the smallest from the domain\n",
    "        if sol_b [i] < domain[i][0]:\n",
    "            sol_b [i] = domain[i][0]\n",
    "        # if sol_b[i] larger than the max allowed value\n",
    "        # replace it with the largest from the domain\n",
    "        elif sol_b [i] > domain[i][1]:\n",
    "            sol_b [i] = domain[i][1] \n",
    "\n",
    "        # Calculate the cost of the current_best solution\n",
    "        best_score = fitness_function(best_sol)\n",
    "        \n",
    "        if best_score == 0:\n",
    "            break\n",
    "            \n",
    "        # Calculate score of a new solution   \n",
    "        b_score = fitness_function(sol_b)\n",
    "        \n",
    "        # If T is really large, exp -> 0, and p -> 1\n",
    "        # If T is small, exp is defined by difference between new and old score\n",
    "        # If T is very small, exp -> infinity, p -> 0 \n",
    "        exp = -(b_score - best_score)/T        \n",
    "        p = pow (math.e, exp)\n",
    "\n",
    "        # Is it better, \n",
    "        # or does it make the probability cutoff?\n",
    "        if b_score < best_score or p > random.random():\n",
    "            best_sol = sol_b        \n",
    "        \n",
    "        # Decrease the temperature\n",
    "        T = T*cool\n",
    "\n",
    "    return (best_sol, fitness_function(best_sol), iterations)"
   ]
  },
  {
   "cell_type": "markdown",
   "metadata": {},
   "source": [
    "### 1.4. Genetic algorithm optimization\n",
    "The algorithm starts with a population of $popsize$ random individuals, and in each generation selects the $elite\\_ratio$ percents with the best fitness score (elite). It continues to the next generation with this group. In order to enrich the genetic pool in the current generation, the algorithm adds random mutations with probability $mut\\_prob$ and mating (crossover) between the members of the elite group. After predefined number of generations $n$, the algorithm returns the individual with the best fitness score. "
   ]
  },
  {
   "cell_type": "code",
   "execution_count": 5,
   "metadata": {},
   "outputs": [],
   "source": [
    "def genetic_optimize (domain, fitness_function,\n",
    "                    popsize=100, step=1,\n",
    "                    mut_prob=0.2, elite_ratio=0.2, n=100):\n",
    "    # Mutation Operation\n",
    "    def mutate(vec):\n",
    "        # choose random index in the solution\n",
    "        i=random.randint(0,len(domain)-1)\n",
    "        # Rooll the dice and with equal probability\n",
    "        # either increase or decrease value at i by step\n",
    "        if random.random()<0.5 and (vec[i] - step) >= domain[i][0]:\n",
    "            return vec[0:i]+[vec[i]-step]+vec[i+1:]\n",
    "        elif (vec[i]+step) <= domain[i][1]:\n",
    "            return vec[0:i]+[vec[i]+step]+vec[i+1:]\n",
    "        return vec\n",
    "\n",
    "    # Crossover Operation\n",
    "    def crossover(r1,r2):\n",
    "        i=random.randint(0,len(domain)-1)\n",
    "        return r1[0:i]+r2[i:]\n",
    "\n",
    "    # Build the initial population of random solutions\n",
    "    pop=[]\n",
    "    for i in range(popsize):\n",
    "        vec = [random.randint(domain[i][0],domain[i][1])\n",
    "               for i in range(len(domain))]\n",
    "        pop.append(vec)\n",
    "\n",
    "    # How many winners from each generation?\n",
    "    topelite=int(elite_ratio*popsize)\n",
    "\n",
    "    # Main loop\n",
    "    generations = 0\n",
    "    for i in range(n):\n",
    "        # This is the list of all solutions in the population together with their fitness scores\n",
    "        scores = [(fitness_function(sol_vect), sol_vect) for sol_vect in pop]\n",
    "        \n",
    "        # We sort this list by score\n",
    "        scores.sort()\n",
    "\n",
    "        # See what is current top best score\n",
    "        if scores[0][0] == 0:\n",
    "            break\n",
    "        \n",
    "        generations += 1\n",
    "        \n",
    "        # this is a list of just the solutions extracted from the sorted by score\n",
    "        ranked_solutions = [sol_vect for (cost, sol_vect) in scores]\n",
    "\n",
    "        # Build next gen population\n",
    "        # Start with the pure winners\n",
    "        pop = ranked_solutions[0:topelite]\n",
    "\n",
    "        # Add mutated and bred forms of the winners\n",
    "        while len(pop) < popsize:\n",
    "            if random.random() < mut_prob:\n",
    "                # Mutation. Select random individual from elite group and mutate\n",
    "                c = random.randint(0,topelite-1)\n",
    "                pop.append(mutate(ranked_solutions[c]))\n",
    "            else:\n",
    "                # Crossover. Select 2 random individuals from elite group and cross\n",
    "                c1 = random.randint(0, topelite-1)\n",
    "                c2 = random.randint(0, topelite-1)\n",
    "                pop.append(crossover(ranked_solutions[c1],ranked_solutions[c2]))\n",
    "                \n",
    "    # After n generations return the top scored solution from the sorted list of scores\n",
    "    return (scores[0][1], scores[0][0], generations)"
   ]
  },
  {
   "cell_type": "markdown",
   "metadata": {},
   "source": [
    "## 2. Group schedule optimization\n",
    "We want to optimize the group schedule for 6 family memebers, which come from different cities to the meetup in New York. "
   ]
  },
  {
   "cell_type": "code",
   "execution_count": 6,
   "metadata": {},
   "outputs": [],
   "source": [
    "people = [  ('Seymour', 'BOS'),\n",
    "            ('Franny', 'DAL'),\n",
    "            ('Zooey', 'CAK'),\n",
    "            ('Walt', 'MIA'),\n",
    "            ('Buddy', 'ORD'),\n",
    "            ('Les', 'OMA')]\n",
    "# LaGuardia airport code - New York\n",
    "destination = 'LGA'"
   ]
  },
  {
   "cell_type": "markdown",
   "metadata": {},
   "source": [
    "### 2.1. Available flights\n",
    "There are many flights per day to LGA from all these locations. Some sample flights are given in file [flights.txt](flights.txt). Each line in this file contains origin, destination, departure time, arrival time and ticket price in a comma-separated format.\n",
    "\n",
    "To have an efficient access to the information in this file, we load the data into a dictionary, where the key is a tuple (origin,destination) and the value is the list of all different flights and their details for a given key."
   ]
  },
  {
   "cell_type": "code",
   "execution_count": 7,
   "metadata": {},
   "outputs": [],
   "source": [
    "flights = {}\n",
    "# Create list of flights for each (origin,destination)\n",
    "f = open('flights.txt')\n",
    "for line in f:\n",
    "    origin, dest, depart, arrive, price = line.strip().split(',')\n",
    "    # If no such key (origin,dest) - create it and init empty list\n",
    "    flights.setdefault((origin, dest), [])\n",
    "\n",
    "    # Add details to the list of possible flights\n",
    "    flights[(origin, dest)].append((depart, arrive, int(price)))"
   ]
  },
  {
   "cell_type": "code",
   "execution_count": 8,
   "metadata": {},
   "outputs": [
    {
     "data": {
      "text/plain": [
       "1223"
      ]
     },
     "execution_count": 8,
     "metadata": {},
     "output_type": "execute_result"
    }
   ],
   "source": [
    "import time\n",
    "\n",
    "# Useful function which converts 'hour:min' into minutes\n",
    "def getminutes(t):\n",
    "    x = time.strptime(t,'%H:%M')\n",
    "    return x[3]*60+x[4]\n",
    "\n",
    "getminutes(\"20:23\")"
   ]
  },
  {
   "cell_type": "markdown",
   "metadata": {},
   "source": [
    "### 2.2. Representing solutions\n",
    "Our sample of flight data contains 8 distinct flights for each combination of (origin,destination). The challenge is: for each family memebr to select one inbound flight (from their hometown to NYC) and one outbound flight (from NYC to their hometown) such that the entire schedule has an overall minimum possible cost.\n",
    "\n",
    "To find solution using optimization algorithms, we need to represent each possible solution so it is easy to process and modify it in code. One posible representation is a list containing an index (0-7) of inbound flight and an index (0-7) of outbound flight for each family member.\n",
    "\n",
    "For example list `t=[1,4,3,2,7,3,6,3,2,4,5,3]` encodes the solution in which Seymour (person 0) takes the second flight of the day from Boston to NYC `(t[0]=1)` and the fifth flight of the day from NYC to Boston `(t[1]=4)`.\n",
    "\n",
    "This representation is good for the algorithm, but we need to be able to interpret the final solution by humans.  "
   ]
  },
  {
   "cell_type": "code",
   "execution_count": 9,
   "metadata": {},
   "outputs": [
    {
     "name": "stdout",
     "output_type": "stream",
     "text": [
      "   Seymour       BOS  8:04-10:11 $ 95 12:08-14:05 $142\n",
      "    Franny       DAL 12:19-15:25 $342 10:51-14:16 $256\n",
      "     Zooey       CAK 10:53-13:36 $189  9:58-12:56 $249\n",
      "      Walt       MIA  9:15-12:29 $225 16:50-19:26 $304\n",
      "     Buddy       ORD 16:43-19:00 $246 10:33-13:11 $132\n",
      "       Les       OMA 11:08-13:07 $175 15:07-17:21 $129\n"
     ]
    }
   ],
   "source": [
    "# Displays the resulting schedule found by an algorithm\n",
    "def print_schedule(r):\n",
    "    for d in range(len(r)//2):\n",
    "        name = people[d][0]\n",
    "        origin = people[d][1]\n",
    "        out = flights[(origin,destination)][int(r[d])]\n",
    "        ret = flights[(destination,origin)][int(r[d+1])]\n",
    "        print('%10s%10s %5s-%5s $%3s %5s-%5s $%3s' % (name, origin,\n",
    "                                            out[0], out[1], out[2],\n",
    "                                            ret[0], ret[1], ret[2]))\n",
    "        \n",
    "s = [1,4,3,2,7,3,6,3,2,4,5,3]\n",
    "print_schedule(s)"
   ]
  },
  {
   "cell_type": "markdown",
   "metadata": {},
   "source": [
    "We also need to define a domain for each flight index. Because each (origin,destination) has precisely 8 possible flights, the min flight index is 0 and the max is 7. "
   ]
  },
  {
   "cell_type": "code",
   "execution_count": 10,
   "metadata": {},
   "outputs": [],
   "source": [
    "domain = [(0, 8)] * (len(people) * 2)"
   ]
  },
  {
   "cell_type": "markdown",
   "metadata": {},
   "source": [
    "### 2.3. Scoring solutions\n",
    "Deciding on how to score each solution is the most non-trivial task in the design of optimization algorithms. "
   ]
  },
  {
   "cell_type": "code",
   "execution_count": 11,
   "metadata": {},
   "outputs": [],
   "source": [
    "def schedule_cost(sol):\n",
    "    totalprice = 0\n",
    "    latestarrival = 0\n",
    "    earliestdep = 24 * 60\n",
    "\n",
    "    for d in range(len(sol) // 2):\n",
    "        # Get the inbound and outbound flights\n",
    "        origin = people[d][1]\n",
    "        outbound = flights[(origin, destination)][int(sol[d])]\n",
    "        returnf = flights[(destination, origin)][int(sol[d + 1])]\n",
    "\n",
    "        # Total price is the ticket price \n",
    "        # of all outbound and return flights\n",
    "        totalprice += outbound[2]\n",
    "        totalprice += returnf[2]\n",
    "\n",
    "        # Track the latest arrival and earliest departure\n",
    "        if latestarrival < getminutes(outbound[1]):\n",
    "            latestarrival = getminutes(outbound[1])\n",
    "        if earliestdep > getminutes(returnf[0]):\n",
    "            earliestdep = getminutes(returnf[0])\n",
    "\n",
    "    # Family memebrs want to share transportation to/from the airport\n",
    "    # Every person must wait at the airport until the latest person arrives.\n",
    "    # They also must arrive at the same time and wait for their flights.\n",
    "    totalwait = 0\n",
    "    for d in range(len(sol) // 2):\n",
    "        origin = people[d][1]\n",
    "        outbound = flights[(origin, destination)][int(sol[d])]\n",
    "        returnf = flights[(destination, origin)][int(sol[d + 1])]\n",
    "        totalwait += latestarrival - getminutes(outbound[1])\n",
    "        totalwait += getminutes(returnf[0]) - earliestdep\n",
    "\n",
    "    # Does this solution require an extra day of car rental? \n",
    "    # That will be additional $50!\n",
    "    if latestarrival > earliestdep:\n",
    "        totalprice += 50\n",
    "\n",
    "    return totalprice + totalwait"
   ]
  },
  {
   "cell_type": "code",
   "execution_count": 12,
   "metadata": {},
   "outputs": [
    {
     "data": {
      "text/plain": [
       "5285"
      ]
     },
     "execution_count": 12,
     "metadata": {},
     "output_type": "execute_result"
    }
   ],
   "source": [
    "schedule_cost(s)"
   ]
  },
  {
   "cell_type": "markdown",
   "metadata": {},
   "source": [
    "### 2.4. Optimizing\n",
    "#### Random optimization\n",
    "Can we improve cost by creating 10000 random schedules and selecting the best?"
   ]
  },
  {
   "cell_type": "code",
   "execution_count": 13,
   "metadata": {},
   "outputs": [
    {
     "name": "stdout",
     "output_type": "stream",
     "text": [
      "\n",
      "-----------Random optimize----------\n",
      "Total cost for 10000 trials is:2591\n",
      "\n",
      "   Seymour       BOS 12:34-15:02 $109 10:33-12:03 $ 74\n",
      "    Franny       DAL 10:30-14:57 $290 10:51-14:16 $256\n",
      "     Zooey       CAK 10:53-13:36 $189 10:32-13:16 $139\n",
      "      Walt       MIA 11:28-14:40 $248 12:37-15:05 $170\n",
      "     Buddy       ORD 12:44-14:17 $134 10:33-13:11 $132\n",
      "       Les       OMA 11:08-13:07 $175 11:07-13:24 $171\n"
     ]
    }
   ],
   "source": [
    "sol, sol_cost, n = random_optimize(domain,  schedule_cost, 10000)\n",
    "print(\"\\n-----------Random optimize----------\")\n",
    "print(\"Total cost for {} trials is:{}\\n\".format(n, sol_cost))\n",
    "print_schedule(sol)"
   ]
  },
  {
   "cell_type": "markdown",
   "metadata": {},
   "source": [
    "#### Hill climbing\n",
    "Can we get a more optimized schedule?"
   ]
  },
  {
   "cell_type": "code",
   "execution_count": 14,
   "metadata": {},
   "outputs": [
    {
     "name": "stdout",
     "output_type": "stream",
     "text": [
      "\n",
      "-----------Hill climb optimize----------\n",
      "Total cost after 8 downhill steps is:2804\n",
      "\n",
      "   Seymour       BOS  8:04-10:11 $ 95  6:39- 8:09 $ 86\n",
      "    Franny       DAL  6:12-10:22 $230  7:57-11:15 $347\n",
      "     Zooey       CAK  8:27-10:45 $139  8:19-11:16 $122\n",
      "      Walt       MIA  7:34- 9:40 $324  8:23-11:07 $143\n",
      "     Buddy       ORD  8:25-10:34 $157  7:50-10:08 $164\n",
      "       Les       OMA  7:39-10:24 $219  8:04-10:59 $136\n"
     ]
    }
   ],
   "source": [
    "sol, sol_cost, n = hillclimb_optimize(domain, schedule_cost)\n",
    "print(\"\\n-----------Hill climb optimize----------\")\n",
    "print(\"Total cost after {} downhill steps is:{}\\n\".format(n, sol_cost))\n",
    "print_schedule(sol)"
   ]
  },
  {
   "cell_type": "markdown",
   "metadata": {},
   "source": [
    "#### Simulated annealing\n",
    "Can we get out of the local minimum trap?"
   ]
  },
  {
   "cell_type": "code",
   "execution_count": 15,
   "metadata": {},
   "outputs": [
    {
     "name": "stdout",
     "output_type": "stream",
     "text": [
      "\n",
      "-----------Annealing optimize----------\n",
      "Total cost after 11508 cooling steps is:2868\n",
      "\n",
      "   Seymour       BOS 17:11-18:30 $108 15:25-16:58 $ 62\n",
      "    Franny       DAL 15:44-18:55 $382 17:14-20:59 $277\n",
      "     Zooey       CAK 17:08-19:08 $262 15:50-18:45 $243\n",
      "      Walt       MIA 15:34-18:11 $326 15:23-18:49 $150\n",
      "     Buddy       ORD 15:58-18:40 $173 17:06-20:00 $ 95\n",
      "       Les       OMA 16:51-19:09 $147 15:07-17:21 $129\n"
     ]
    }
   ],
   "source": [
    "sol, sol_cost, n = annealing_optimize(domain, schedule_cost,cool=0.999)\n",
    "print(\"\\n-----------Annealing optimize----------\")\n",
    "print(\"Total cost after {} cooling steps is:{}\\n\".format(n, sol_cost))\n",
    "print_schedule(sol)"
   ]
  },
  {
   "cell_type": "markdown",
   "metadata": {},
   "source": [
    "#### Genetic algorithm\n",
    "Can biology help?"
   ]
  },
  {
   "cell_type": "code",
   "execution_count": 16,
   "metadata": {},
   "outputs": [
    {
     "name": "stdout",
     "output_type": "stream",
     "text": [
      "\n",
      "-----------Genetic algorithme----------\n",
      "Total cost after 100 generations is:2591\n",
      "\n",
      "   Seymour       BOS 12:34-15:02 $109 10:33-12:03 $ 74\n",
      "    Franny       DAL 10:30-14:57 $290 10:51-14:16 $256\n",
      "     Zooey       CAK 10:53-13:36 $189 10:32-13:16 $139\n",
      "      Walt       MIA 11:28-14:40 $248 12:37-15:05 $170\n",
      "     Buddy       ORD 12:44-14:17 $134 10:33-13:11 $132\n",
      "       Les       OMA 11:08-13:07 $175 11:07-13:24 $171\n"
     ]
    }
   ],
   "source": [
    "sol, sol_cost, n = genetic_optimize(domain, schedule_cost,\n",
    "                                popsize=2048, mut_prob=0.25,\n",
    "                                elite_ratio=0.1, n=100)\n",
    "print(\"\\n-----------Genetic algorithme----------\")\n",
    "print(\"Total cost after {} generations is:{}\\n\".format(n, sol_cost))\n",
    "print_schedule(sol)"
   ]
  },
  {
   "cell_type": "markdown",
   "metadata": {},
   "source": [
    "## 3. Dorm assignment optimization [Your turn!]\n",
    "### 3.1. Problem setup\n",
    "There are 5 dorms, each with 2 spaces available and 10 students\n",
    "vying for spots. Each student has first and second choices."
   ]
  },
  {
   "cell_type": "code",
   "execution_count": 17,
   "metadata": {},
   "outputs": [],
   "source": [
    "# The dorms, each of which has two available spaces\n",
    "dorms=['Dolliver','Crosby','Hill','Carriage','MODs']\n",
    "\n",
    "# People, along with their first and second choices\n",
    "prefs=[('Daniel', ('Carriage', 'Hill')),\n",
    "       ('Steven', ('Dolliver', 'MODs')),\n",
    "       ('Akarsh', ('Crosby', 'Dolliver')),\n",
    "       ('Kelvin', ('Dolliver', 'MODs')),\n",
    "       ('Betty', ('Crosby', 'Carriage')),\n",
    "       ('Jeff', ('Hill', 'MODs')),\n",
    "       ('Cat', ('MODs', 'Crosby')),\n",
    "       ('Michael', ('Carriage', 'Hill')),\n",
    "       ('Gary', ('Carriage', 'Hill')),\n",
    "       ('James', ('Hill', 'Crosby'))]"
   ]
  },
  {
   "cell_type": "markdown",
   "metadata": {},
   "source": [
    "It is clear that every student cannot have their top choice: for example, there are only 2 free spots in Carriage, but 3 students have it as their top choice. We will apply an optimization algorithm to assign students to dorms such that the preferences are satisfied as much as possible for the entire group of students."
   ]
  },
  {
   "cell_type": "markdown",
   "metadata": {},
   "source": [
    "### 3.2. Representing solutions\n",
    "The representation for solutions is a bit trickier for this problem than for the flight\n",
    "problem. You could, in theory, create a list of numbers, one for each student, where\n",
    "each number represents the dorm in which you’ve put the student. \n",
    "\n",
    "The problem is that this representation doesn’t constrain the solution to only two students in each\n",
    "dorm. A list of all zeros would indicate that everyone had been placed in Dolliver, which\n",
    "isn’t a real solution at all.\n",
    "\n",
    "You need to find a way to represent solutions so that\n",
    "every one is valid. A valid solution is not necessarily a good solution; it just means\n",
    "that there are exactly two students assigned to each dorm. \n",
    "\n",
    "Hint: One way to do this is to\n",
    "think of every dorm as having two slots, so that in the example there are ten slots in\n",
    "total. Each student, in order, is assigned to one of the open slots—the first person\n",
    "can be placed in any one of the ten, the second person can be placed in any of the\n",
    "nine remaining slots, and so on."
   ]
  },
  {
   "cell_type": "code",
   "execution_count": 18,
   "metadata": {},
   "outputs": [
    {
     "name": "stdout",
     "output_type": "stream",
     "text": [
      "[0, 0, 1, 1, 2, 2, 3, 3, 4, 4]\n"
     ]
    }
   ],
   "source": [
    "# Example - list of all possible slots\n",
    "slots=[]\n",
    "# Create two slots for each dorm\n",
    "for i in range(len(dorms)): slots+=[i,i]\n",
    "    \n",
    "# This corresponds to 2 slots in Dolliver (0,0), 2 slots in Crosby (1,1) etc.\n",
    "print(slots)"
   ]
  },
  {
   "cell_type": "markdown",
   "metadata": {},
   "source": [
    "Each student is assigned one slot from the list of slots, and then this slot is removed. Thus a solution contains a list of 10 entries (one for each student) and at each list position there is an index in the <b>remaining</b> list of slots -- <b>after the slot at the corresponding position has been removed</b>. To understand how it works, we show the `print_solution` function and the sample solution."
   ]
  },
  {
   "cell_type": "code",
   "execution_count": 19,
   "metadata": {},
   "outputs": [],
   "source": [
    "def print_solution(sol):\n",
    "    slots=[]\n",
    "    # Create two slots for each dorm\n",
    "    for i in range(len(dorms)):\n",
    "        slots+=[i,i]\n",
    "\n",
    "    # Loop over each students assignment\n",
    "    for i in range(len(sol)):\n",
    "        x=int(sol[i])\n",
    "       \n",
    "        # Choose the slot from the remaining ones\n",
    "        dorm=dorms[slots[x]]\n",
    "        \n",
    "        # Show the student and assigned dorm\n",
    "        print('%10s %10s %25s' % (prefs[i][0], dorm, prefs[i][1]))\n",
    "        #print (prefs[i][0],\"got:\", dorm, \" - prefs:\", prefs[i][1])\n",
    "\n",
    "        # Remove this slot\n",
    "        del slots[x]"
   ]
  },
  {
   "cell_type": "code",
   "execution_count": 20,
   "metadata": {},
   "outputs": [
    {
     "name": "stdout",
     "output_type": "stream",
     "text": [
      "    Daniel   Dolliver      ('Carriage', 'Hill')\n",
      "    Steven   Dolliver      ('Dolliver', 'MODs')\n",
      "    Akarsh     Crosby    ('Crosby', 'Dolliver')\n",
      "    Kelvin     Crosby      ('Dolliver', 'MODs')\n",
      "     Betty       Hill    ('Crosby', 'Carriage')\n",
      "      Jeff       Hill          ('Hill', 'MODs')\n",
      "       Cat   Carriage        ('MODs', 'Crosby')\n",
      "   Michael   Carriage      ('Carriage', 'Hill')\n",
      "      Gary       MODs      ('Carriage', 'Hill')\n",
      "     James       MODs        ('Hill', 'Crosby')\n"
     ]
    }
   ],
   "source": [
    "print_solution([0,0,0,0,0,0,0,0,0,0])"
   ]
  },
  {
   "cell_type": "markdown",
   "metadata": {},
   "source": [
    "<div style=\"background-color:yellow;\">    \n",
    "    <h3>Task 1. Define domain for each index in the solution</h3>\n",
    "The first position in the solution corresponds to the slot index assigned to the first student (Daniel). Daniel can have any of the 10 indices, so the min is 0, the max is 9. After we remove one slot from the slots list - there are only 9 elements left. Thus the second student can have any index from 0 to 9, etc.    \n",
    " </div> "
   ]
  },
  {
   "cell_type": "code",
   "execution_count": 21,
   "metadata": {},
   "outputs": [
    {
     "name": "stdout",
     "output_type": "stream",
     "text": [
      "[(0, 9), (0, 8), (0, 7), (0, 6), (0, 5), (0, 4), (0, 3), (0, 2), (0, 1), (0, 0)]\n"
     ]
    }
   ],
   "source": [
    "# Initialize the domain. \n",
    "\n",
    "domain = []\n",
    "slots_left = len(slots)-1\n",
    "for indx in range(len(slots)):\n",
    "    domain.append((0,slots_left))\n",
    "    slots_left -= 1\n",
    "    \n",
    "print(domain)\n",
    "    "
   ]
  },
  {
   "cell_type": "markdown",
   "metadata": {},
   "source": [
    "<div style=\"background-color:yellow;\">    \n",
    "    <h3>Task 2. Implement the cost function</h3>\n",
    "    <ul>\n",
    "        <li>For each student find which dorm they are assigned. If this dorm is their top choice, add 0 to the overall solution cost.</li>\n",
    "        <li>If it is their second choice - add 1 to the overall cost.</li>\n",
    "        <li>If it is not on their list of prefences - add 3 to the cost (far from perfect).</li>\n",
    "    </ul>\n",
    "    <b>DO NOT FORGET TO REMOVE THE CORRESPONDING ENTRY FROM THE SLOTS AFTER IT HAS BEEN TAKEN.</b>\n",
    "</div>"
   ]
  },
  {
   "cell_type": "code",
   "execution_count": 22,
   "metadata": {},
   "outputs": [
    {
     "name": "stdout",
     "output_type": "stream",
     "text": [
      "18\n"
     ]
    }
   ],
   "source": [
    "# cost function\n",
    "\n",
    "def dorm_cost(sol):\n",
    "    cost=0\n",
    "    \n",
    "    \n",
    "    slots=[]\n",
    "    # Create two slots for each dorm\n",
    "    for i in range(len(dorms)):\n",
    "        slots+=[i,i]\n",
    "\n",
    "    # Loop over each students assignment\n",
    "    for i in range(len(sol)):\n",
    "        x=int(sol[i])\n",
    "       \n",
    "        # Choose the slot from the remaining ones\n",
    "        dorm=dorms[slots[x]]\n",
    "        \n",
    "        if dorm == prefs[i][1][0]: \n",
    "            # this is student's first preference\n",
    "            cost += 0\n",
    "            \n",
    "        elif dorm == prefs[i][1][1]:\n",
    "            # this is student's second preference\n",
    "            cost += 1\n",
    "            \n",
    "        else:\n",
    "            # this dorm is not on their list of preferences\n",
    "            cost += 3 \n",
    "        \n",
    "        # Remove this slot\n",
    "        del slots[x]\n",
    "        \n",
    "    \n",
    "    return cost\n",
    "\n",
    "# for testing\n",
    "sol_testing = [0,0,0,0,0,0,0,0,0,0]\n",
    "result = dorm_cost(sol_testing)\n",
    "print(result)"
   ]
  },
  {
   "cell_type": "markdown",
   "metadata": {},
   "source": [
    "<div style=\"background-color:yellow;\">    \n",
    "    <h3>Task 3. Run optimizations</h3>\n",
    "Run the optimization algorithms several times in the cells below. Report the parameters and the best results and compare them in the report. The report can be added at the end of the lab in a separate markdown cell.  \n",
    " </div> "
   ]
  },
  {
   "cell_type": "markdown",
   "metadata": {},
   "source": [
    "#### Random optimize"
   ]
  },
  {
   "cell_type": "code",
   "execution_count": 23,
   "metadata": {},
   "outputs": [
    {
     "name": "stdout",
     "output_type": "stream",
     "text": [
      "\n",
      "-----------Random optimize----------\n",
      "Total cost for 10000 trials is:4\n",
      "\n",
      "    Daniel   Carriage      ('Carriage', 'Hill')\n",
      "    Steven       MODs      ('Dolliver', 'MODs')\n",
      "    Akarsh   Dolliver    ('Crosby', 'Dolliver')\n",
      "    Kelvin   Dolliver      ('Dolliver', 'MODs')\n",
      "     Betty     Crosby    ('Crosby', 'Carriage')\n",
      "      Jeff       Hill          ('Hill', 'MODs')\n",
      "       Cat       MODs        ('MODs', 'Crosby')\n",
      "   Michael   Carriage      ('Carriage', 'Hill')\n",
      "      Gary       Hill      ('Carriage', 'Hill')\n",
      "     James     Crosby        ('Hill', 'Crosby')\n"
     ]
    }
   ],
   "source": [
    "# this is just running once. Below the bonus question, I will run several times\n",
    "\n",
    "sol, sol_cost, n = random_optimize(domain,  dorm_cost, 10000)\n",
    "print(\"\\n-----------Random optimize----------\")\n",
    "print(\"Total cost for {} trials is:{}\\n\".format(n, sol_cost))\n",
    "print_solution(sol)"
   ]
  },
  {
   "cell_type": "markdown",
   "metadata": {},
   "source": [
    "#### Hill climbing"
   ]
  },
  {
   "cell_type": "code",
   "execution_count": 24,
   "metadata": {},
   "outputs": [
    {
     "name": "stdout",
     "output_type": "stream",
     "text": [
      "\n",
      "-----------Hill climb optimize----------\n",
      "Total cost after 2 downhill steps is:8\n",
      "\n",
      "    Daniel   Carriage      ('Carriage', 'Hill')\n",
      "    Steven   Carriage      ('Dolliver', 'MODs')\n",
      "    Akarsh     Crosby    ('Crosby', 'Dolliver')\n",
      "    Kelvin   Dolliver      ('Dolliver', 'MODs')\n",
      "     Betty     Crosby    ('Crosby', 'Carriage')\n",
      "      Jeff       MODs          ('Hill', 'MODs')\n",
      "       Cat       MODs        ('MODs', 'Crosby')\n",
      "   Michael   Dolliver      ('Carriage', 'Hill')\n",
      "      Gary       Hill      ('Carriage', 'Hill')\n",
      "     James       Hill        ('Hill', 'Crosby')\n"
     ]
    }
   ],
   "source": [
    "sol, sol_cost, n = hillclimb_optimize(domain, dorm_cost)\n",
    "print(\"\\n-----------Hill climb optimize----------\")\n",
    "print(\"Total cost after {} downhill steps is:{}\\n\".format(n, sol_cost))\n",
    "print_solution(sol)"
   ]
  },
  {
   "cell_type": "markdown",
   "metadata": {},
   "source": [
    "#### Simulated annealing"
   ]
  },
  {
   "cell_type": "code",
   "execution_count": 25,
   "metadata": {},
   "outputs": [
    {
     "name": "stdout",
     "output_type": "stream",
     "text": [
      "\n",
      "-----------Annealing optimize----------\n",
      "Total cost after 11508 cooling steps is:5\n",
      "\n",
      "    Daniel   Carriage      ('Carriage', 'Hill')\n",
      "    Steven   Dolliver      ('Dolliver', 'MODs')\n",
      "    Akarsh       MODs    ('Crosby', 'Dolliver')\n",
      "    Kelvin   Dolliver      ('Dolliver', 'MODs')\n",
      "     Betty     Crosby    ('Crosby', 'Carriage')\n",
      "      Jeff       Hill          ('Hill', 'MODs')\n",
      "       Cat       MODs        ('MODs', 'Crosby')\n",
      "   Michael       Hill      ('Carriage', 'Hill')\n",
      "      Gary   Carriage      ('Carriage', 'Hill')\n",
      "     James     Crosby        ('Hill', 'Crosby')\n"
     ]
    }
   ],
   "source": [
    "sol, sol_cost, n = annealing_optimize(domain, dorm_cost,cool=0.999)\n",
    "print(\"\\n-----------Annealing optimize----------\")\n",
    "print(\"Total cost after {} cooling steps is:{}\\n\".format(n, sol_cost))\n",
    "print_solution(sol)"
   ]
  },
  {
   "cell_type": "markdown",
   "metadata": {},
   "source": [
    "#### Genetic algorithm"
   ]
  },
  {
   "cell_type": "code",
   "execution_count": 26,
   "metadata": {},
   "outputs": [
    {
     "name": "stdout",
     "output_type": "stream",
     "text": [
      "\n",
      "-----------Genetic algorithme----------\n",
      "Total cost after 100 generations is:2\n",
      "\n",
      "    Daniel       Hill      ('Carriage', 'Hill')\n",
      "    Steven   Dolliver      ('Dolliver', 'MODs')\n",
      "    Akarsh     Crosby    ('Crosby', 'Dolliver')\n",
      "    Kelvin   Dolliver      ('Dolliver', 'MODs')\n",
      "     Betty     Crosby    ('Crosby', 'Carriage')\n",
      "      Jeff       MODs          ('Hill', 'MODs')\n",
      "       Cat       MODs        ('MODs', 'Crosby')\n",
      "   Michael   Carriage      ('Carriage', 'Hill')\n",
      "      Gary   Carriage      ('Carriage', 'Hill')\n",
      "     James       Hill        ('Hill', 'Crosby')\n"
     ]
    }
   ],
   "source": [
    "sol, sol_cost, n = genetic_optimize(domain, dorm_cost,\n",
    "                                popsize=2048, mut_prob=0.25,\n",
    "                                elite_ratio=0.1, n=100)\n",
    "print(\"\\n-----------Genetic algorithme----------\")\n",
    "print(\"Total cost after {} generations is:{}\\n\".format(n, sol_cost))\n",
    "print_solution(sol)"
   ]
  },
  {
   "cell_type": "markdown",
   "metadata": {},
   "source": [
    "<div style=\"background-color:yellow;\">    \n",
    "    <h3>Task 4 [Bonus]. Best solution</h3>\n",
    "The sample input for this problem is very small. The total number of possible solutions is just 10!=3,628,800. Enumerate all possible solutions and find the one with the lowest cost. Was any of the optimization algorithms was able to find the best solution?  \n",
    " </div> "
   ]
  },
  {
   "cell_type": "code",
   "execution_count": 40,
   "metadata": {},
   "outputs": [
    {
     "name": "stdout",
     "output_type": "stream",
     "text": [
      "Total number of possible solutions:  3628800\n",
      "\n",
      "\n",
      "The lowest cost possible is:  2\n",
      "\n",
      "\n",
      "    Daniel       Hill      ('Carriage', 'Hill')\n",
      "    Steven   Dolliver      ('Dolliver', 'MODs')\n",
      "    Akarsh     Crosby    ('Crosby', 'Dolliver')\n",
      "    Kelvin   Dolliver      ('Dolliver', 'MODs')\n",
      "     Betty     Crosby    ('Crosby', 'Carriage')\n",
      "      Jeff       MODs          ('Hill', 'MODs')\n",
      "       Cat       MODs        ('MODs', 'Crosby')\n",
      "   Michael   Carriage      ('Carriage', 'Hill')\n",
      "      Gary   Carriage      ('Carriage', 'Hill')\n",
      "     James       Hill        ('Hill', 'Crosby')\n"
     ]
    }
   ],
   "source": [
    "from itertools import product\n",
    "\n",
    "min_cost = 70\n",
    "optimal_sol = []\n",
    "\n",
    "total_solution_counter = 0\n",
    "\n",
    "for tuple_sol in product(range(10),range(9),range(8),range(7),range(6),range(5),range(4),range(3),range(2),range(1)):\n",
    "    p_sol = list(tuple_sol)\n",
    "    possible_cost = dorm_cost(p_sol)\n",
    "    if possible_cost < min_cost:\n",
    "        optimal_sol = p_sol\n",
    "        min_cost = possible_cost\n",
    "        \n",
    "    total_solution_counter += 1\n",
    "\n",
    "                                          \n",
    "print(\"Total number of possible solutions: \", total_solution_counter)\n",
    "print(\"\\n\")\n",
    "print(\"The lowest cost possible is: \", min_cost)\n",
    "print(\"\\n\")\n",
    "print_solution(optimal_sol)\n"
   ]
  },
  {
   "cell_type": "markdown",
   "metadata": {},
   "source": [
    "Examples are adopted from the book ''Programming Collective Intelligence'', by Toby Segaran, 2007."
   ]
  },
  {
   "cell_type": "markdown",
   "metadata": {},
   "source": [
    "<div>    \n",
    "    <h3>Response</h3>\n",
    "    <p>Graphs below represent 4 algorithms that are run various times</p>\n",
    "    <p>There are also graphs that compare the parameters with the costs</p>\n",
    "    <p>\n",
    "        I also take the average costs of those algorithms in order to compare them since randomness is involved\n",
    "        and it's hard to compare the best if we are just using the minimum costs. So I iterate 30 times and get\n",
    "        the average costs of each algorithm from that number of iterations. The parameters of Annealing\n",
    "        and Genetic algorithms are selected based on the graphs that compare the parameters with the costs. \n",
    "    </p>\n",
    "    <p>\n",
    "        As we can see from the table, Genetic Algorithm's cost is the lowest. From the bonus question above, we\n",
    "        can see that the least cost we can get is 2. Genetic Algorithm also provides the minimum cost of 2.\n",
    "        So Genetic Algorithm is able to find the best solution.\n",
    "    </p>\n",
    "    <table>\n",
    "        <tr>\n",
    "            <th>Algorithms</th>\n",
    "            <th>Average Costs</th>\n",
    "            <th>Additional Parameters</th>\n",
    "        </tr>\n",
    "        <tr>\n",
    "            <td>Random Optimize</td>\n",
    "            <td>3.47</td>\n",
    "            <td>\n",
    "                n = 10000\n",
    "            </td>\n",
    "        </tr>\n",
    "        <tr>\n",
    "            <td>Hill Climbing</td>\n",
    "            <td>12.8</td>\n",
    "            <td></td>\n",
    "        </tr>\n",
    "        <tr>\n",
    "            <td>Simulated Annealing</td>\n",
    "            <td>4.57</td>\n",
    "            <td>cool = 0.999</td>\n",
    "        </tr>\n",
    "        <tr>\n",
    "            <td>Genetic Algorithm</td>\n",
    "            <td>2.0</td>\n",
    "            <td>\n",
    "                popsize = 2048,\n",
    "                mut_prob = 0.25,\n",
    "                elite_ratio = 0.1,\n",
    "                n = 100\n",
    "            </td>\n",
    "        </tr>\n",
    "    </table>\n",
    "</div> "
   ]
  },
  {
   "cell_type": "code",
   "execution_count": 28,
   "metadata": {},
   "outputs": [],
   "source": [
    "# I will be comparing the results from multiple runs\n",
    "import matplotlib.pyplot as plt\n",
    "%matplotlib inline\n",
    "\n",
    "# This tells the number of times the algorithm will run\n",
    "total_no_of_iter = 30"
   ]
  },
  {
   "cell_type": "code",
   "execution_count": 29,
   "metadata": {},
   "outputs": [
    {
     "data": {
      "image/png": "[encoded data removed]",
      "text/plain": [
       "<Figure size 432x288 with 1 Axes>"
      ]
     },
     "metadata": {
      "needs_background": "light"
     },
     "output_type": "display_data"
    },
    {
     "name": "stdout",
     "output_type": "stream",
     "text": [
      "Average of 30 iteration: 3.466666666666667\n",
      "Min cost:  2\n"
     ]
    }
   ],
   "source": [
    "# this is for random optimize algorithm\n",
    "# this runs random optimize algorithm for various times\n",
    "\n",
    "random_optimize_costs_lst = []\n",
    "iteration_num_lst = []\n",
    "\n",
    "\n",
    "for num in range(0, total_no_of_iter):\n",
    "    \n",
    "    sol, sol_cost, n = random_optimize(domain,  dorm_cost, 10000)\n",
    "    \n",
    "    iteration_num_lst.append(num)\n",
    "    random_optimize_costs_lst.append(sol_cost)\n",
    "    \n",
    "# graphing    \n",
    "plt.scatter(iteration_num_lst, random_optimize_costs_lst)\n",
    "\n",
    "plt.title(\"Random Optimization\")\n",
    "plt.xlabel(\"no of iterations\")\n",
    "plt.ylabel(\"costs\")\n",
    "\n",
    "plt.show()\n",
    "\n",
    "\n",
    "\n",
    "\n",
    "# getting average and min costs\n",
    "random_avg = sum(random_optimize_costs_lst)/len(random_optimize_costs_lst)\n",
    "print(\"Average of {} iteration: {}\".format(total_no_of_iter, random_avg))\n",
    "\n",
    "min_cost_from_iter = min(random_optimize_costs_lst)\n",
    "print(\"Min cost: \", min_cost_from_iter)\n",
    "\n"
   ]
  },
  {
   "cell_type": "code",
   "execution_count": 30,
   "metadata": {},
   "outputs": [
    {
     "data": {
      "image/png": "[encoded data removed]",
      "text/plain": [
       "<Figure size 432x288 with 1 Axes>"
      ]
     },
     "metadata": {
      "needs_background": "light"
     },
     "output_type": "display_data"
    },
    {
     "name": "stdout",
     "output_type": "stream",
     "text": [
      "Average of 30 iteration: 12.8\n",
      "Min cost:  5\n"
     ]
    }
   ],
   "source": [
    "# this is for hill climbing algorithm\n",
    "# running the hill climbing algorithm various times\n",
    "\n",
    "hill_climbing_optimize_costs_lst = []\n",
    "iteration_num_lst = []\n",
    "\n",
    "\n",
    "for num in range(total_no_of_iter):\n",
    "    \n",
    "    sol, sol_cost, n = hillclimb_optimize(domain, dorm_cost)\n",
    "    \n",
    "    iteration_num_lst.append(num)\n",
    "    hill_climbing_optimize_costs_lst.append(sol_cost)\n",
    "    \n",
    "# graphing    \n",
    "plt.scatter(iteration_num_lst, hill_climbing_optimize_costs_lst)\n",
    "\n",
    "plt.title(\"Hill Climbing Optimization\")\n",
    "plt.xlabel(\"no of iterations\")\n",
    "plt.ylabel(\"costs\")\n",
    "\n",
    "plt.show()\n",
    "\n",
    "# getting average and min costs\n",
    "hill_avg = sum(hill_climbing_optimize_costs_lst)/len(hill_climbing_optimize_costs_lst)\n",
    "print(\"Average of {} iteration: {}\".format(total_no_of_iter, hill_avg))\n",
    "\n",
    "min_cost_from_iter = min(hill_climbing_optimize_costs_lst)\n",
    "print(\"Min cost: \", min_cost_from_iter)\n",
    "\n"
   ]
  },
  {
   "cell_type": "code",
   "execution_count": 31,
   "metadata": {},
   "outputs": [
    {
     "data": {
      "image/png": "[encoded data removed]",
      "text/plain": [
       "<Figure size 432x288 with 1 Axes>"
      ]
     },
     "metadata": {
      "needs_background": "light"
     },
     "output_type": "display_data"
    }
   ],
   "source": [
    "# This is for seeing the costs with different cool rate for Simulated Annealing Optimization\n",
    "\n",
    "cool_costs_lst = []\n",
    "cool_rate_lst = []\n",
    "\n",
    "cool_rate = 0.1\n",
    "while cool_rate < 1:\n",
    "    sol, sol_cost, n = annealing_optimize(domain, dorm_cost,cool=cool_rate)\n",
    "    \n",
    "    cool_rate_lst.append(cool_rate)\n",
    "    cool_costs_lst.append(sol_cost)\n",
    "    \n",
    "    cool_rate += 0.01\n",
    "\n",
    "    \n",
    "# graphing    \n",
    "plt.scatter(cool_rate_lst, cool_costs_lst)\n",
    "\n",
    "plt.title(\"Simulated Annealing Optimization: Cooling rate vs costs\")\n",
    "plt.xlabel(\"cooling rate\")\n",
    "plt.ylabel(\"costs depending on cool rate\")\n",
    "\n",
    "plt.show()"
   ]
  },
  {
   "cell_type": "code",
   "execution_count": 32,
   "metadata": {},
   "outputs": [
    {
     "data": {
      "image/png": "[encoded data removed]",
      "text/plain": [
       "<Figure size 432x288 with 1 Axes>"
      ]
     },
     "metadata": {
      "needs_background": "light"
     },
     "output_type": "display_data"
    },
    {
     "name": "stdout",
     "output_type": "stream",
     "text": [
      "Average of 30 iteration: 4.566666666666666\n",
      "Min cost:  2\n"
     ]
    }
   ],
   "source": [
    "# this is for simulated annealing algorithm\n",
    "# running the algorithm various times\n",
    " \n",
    "\n",
    "annealing_optimize_costs_lst = []\n",
    "iteration_num_lst = []\n",
    "\n",
    "for num in range(total_no_of_iter):\n",
    "    \n",
    "    sol, sol_cost, n = annealing_optimize(domain, dorm_cost,cool=0.999)\n",
    "    \n",
    "    iteration_num_lst.append(num)\n",
    "    annealing_optimize_costs_lst.append(sol_cost)\n",
    "\n",
    "    \n",
    "# graphing    \n",
    "plt.scatter(iteration_num_lst, annealing_optimize_costs_lst)\n",
    "\n",
    "plt.title(\"Simulated Annealing Optimization\")\n",
    "plt.xlabel(\"no of iterations\")\n",
    "plt.ylabel(\"costs\")\n",
    "\n",
    "plt.show()\n",
    "\n",
    "# getting average and min costs\n",
    "annealing_avg = sum(annealing_optimize_costs_lst)/len(annealing_optimize_costs_lst)\n",
    "print(\"Average of {} iteration: {}\".format(total_no_of_iter, annealing_avg))\n",
    "\n",
    "min_cost_from_iter = min(annealing_optimize_costs_lst)\n",
    "print(\"Min cost: \", min_cost_from_iter)"
   ]
  },
  {
   "cell_type": "code",
   "execution_count": 33,
   "metadata": {},
   "outputs": [
    {
     "data": {
      "image/png": "[encoded data removed]",
      "text/plain": [
       "<Figure size 432x288 with 1 Axes>"
      ]
     },
     "metadata": {
      "needs_background": "light"
     },
     "output_type": "display_data"
    },
    {
     "name": "stdout",
     "output_type": "stream",
     "text": [
      "Average of 30 iteration: 2.0\n",
      "Min cost:  2\n"
     ]
    }
   ],
   "source": [
    "# this is for Genetic algorithm\n",
    "# running the algorithm various times\n",
    "\n",
    "genetic_optimize_costs_lst = []\n",
    "iteration_num_lst = []\n",
    "\n",
    "for num in range(total_no_of_iter):\n",
    "    \n",
    "    sol, sol_cost, n = genetic_optimize(domain, dorm_cost,\n",
    "                                popsize=2048, mut_prob=0.25,\n",
    "                                elite_ratio=0.1, n=100)\n",
    "    \n",
    "    iteration_num_lst.append(num)\n",
    "    genetic_optimize_costs_lst.append(sol_cost)\n",
    "\n",
    "    \n",
    "# graphing    \n",
    "plt.scatter(iteration_num_lst, genetic_optimize_costs_lst)\n",
    "\n",
    "plt.title(\"Genetic Algorithm\")\n",
    "plt.xlabel(\"no of iterations\")\n",
    "plt.ylabel(\"costs\")\n",
    "\n",
    "plt.show()\n",
    "\n",
    "# getting average and min costs\n",
    "genetic_avg = sum(genetic_optimize_costs_lst)/len(genetic_optimize_costs_lst)\n",
    "print(\"Average of {} iteration: {}\".format(total_no_of_iter, genetic_avg))\n",
    "\n",
    "min_cost_from_iter = min(genetic_optimize_costs_lst)\n",
    "print(\"Min cost: \", min_cost_from_iter)"
   ]
  },
  {
   "cell_type": "code",
   "execution_count": 34,
   "metadata": {},
   "outputs": [
    {
     "data": {
      "image/png": "[encoded data removed]",
      "text/plain": [
       "<Figure size 432x288 with 1 Axes>"
      ]
     },
     "metadata": {
      "needs_background": "light"
     },
     "output_type": "display_data"
    }
   ],
   "source": [
    "# This is for seeing the costs with different generation for Genetic Algorithm\n",
    "\n",
    "gen_cost_lst = []\n",
    "gen_lst = []\n",
    "\n",
    "gen_counter = 1\n",
    "while gen_counter < 120:\n",
    "    sol, sol_cost, n = genetic_optimize(domain, dorm_cost,\n",
    "                                popsize=2048, mut_prob=0.25,\n",
    "                                elite_ratio=0.1, n=gen_counter)\n",
    "    \n",
    "    gen_lst.append(gen_counter)\n",
    "    gen_cost_lst.append(sol_cost)\n",
    "    \n",
    "    gen_counter += 5\n",
    "\n",
    "    \n",
    "# graphing    \n",
    "plt.scatter(gen_lst, gen_cost_lst)\n",
    "\n",
    "plt.title(\"Genetic Algorithm: Generation vs Costs\")\n",
    "plt.xlabel(\"Generation\")\n",
    "plt.ylabel(\"costs depending on generation\")\n",
    "\n",
    "plt.show()"
   ]
  },
  {
   "cell_type": "code",
   "execution_count": 35,
   "metadata": {},
   "outputs": [
    {
     "data": {
      "image/png": "[encoded data removed]",
      "text/plain": [
       "<Figure size 432x288 with 1 Axes>"
      ]
     },
     "metadata": {
      "needs_background": "light"
     },
     "output_type": "display_data"
    }
   ],
   "source": [
    "# This is for seeing the costs with different population size for Genetic Algorithm\n",
    "\n",
    "popsize_cost_lst = []\n",
    "popsize_lst = []\n",
    "\n",
    "popsize_counter = 10\n",
    "while popsize_counter < 2049:\n",
    "    sol, sol_cost, n = genetic_optimize(domain, dorm_cost,\n",
    "                                popsize=popsize_counter, mut_prob=0.25,\n",
    "                                elite_ratio=0.1, n=100)\n",
    "    \n",
    "    popsize_lst.append(popsize_counter)\n",
    "    popsize_cost_lst.append(sol_cost)\n",
    "    \n",
    "    popsize_counter += 100\n",
    "\n",
    "    \n",
    "# graphing    \n",
    "plt.scatter(popsize_lst, popsize_cost_lst)\n",
    "\n",
    "plt.title(\"Genetic Algorithm: Population Size vs Costs\")\n",
    "plt.xlabel(\"Population Size\")\n",
    "plt.ylabel(\"costs depending on population size\")\n",
    "\n",
    "plt.show()"
   ]
  },
  {
   "cell_type": "code",
   "execution_count": 36,
   "metadata": {},
   "outputs": [
    {
     "data": {
      "image/png": "[encoded data removed]",
      "text/plain": [
       "<Figure size 432x288 with 1 Axes>"
      ]
     },
     "metadata": {
      "needs_background": "light"
     },
     "output_type": "display_data"
    }
   ],
   "source": [
    "# This is for seeing the costs with different mutation probability for Genetic Algorithm\n",
    "\n",
    "mut_cost_lst = []\n",
    "mut_lst = []\n",
    "\n",
    "mut_counter = 0.01\n",
    "while mut_counter < 1:\n",
    "    sol, sol_cost, n = genetic_optimize(domain, dorm_cost,\n",
    "                                popsize=2048, mut_prob=mut_counter,\n",
    "                                elite_ratio=0.1, n=100)\n",
    "    \n",
    "    mut_lst.append(mut_counter)\n",
    "    mut_cost_lst.append(sol_cost)\n",
    "    \n",
    "    mut_counter += 0.1\n",
    "\n",
    "    \n",
    "# graphing    \n",
    "plt.scatter(mut_lst, mut_cost_lst)\n",
    "\n",
    "plt.title(\"Genetic Algorithm: Mutation Probability vs Costs\")\n",
    "plt.xlabel(\"Mutation Probability\")\n",
    "plt.ylabel(\"costs depending on mutation probability\")\n",
    "\n",
    "plt.show()"
   ]
  },
  {
   "cell_type": "code",
   "execution_count": 37,
   "metadata": {},
   "outputs": [
    {
     "data": {
      "image/png": "[encoded data removed]",
      "text/plain": [
       "<Figure size 432x288 with 1 Axes>"
      ]
     },
     "metadata": {
      "needs_background": "light"
     },
     "output_type": "display_data"
    }
   ],
   "source": [
    "# This is for seeing the costs with different elite ratio for Genetic Algorithm\n",
    "\n",
    "elite_cost_lst = []\n",
    "elite_lst = []\n",
    "\n",
    "elite_counter = 0.1\n",
    "while elite_counter < 1:\n",
    "    sol, sol_cost, n = genetic_optimize(domain, dorm_cost,\n",
    "                                popsize=2048, mut_prob=0.25,\n",
    "                                elite_ratio=elite_counter, n=100)\n",
    "    \n",
    "    elite_lst.append(elite_counter)\n",
    "    elite_cost_lst.append(sol_cost)\n",
    "    \n",
    "    elite_counter += 0.1\n",
    "\n",
    "    \n",
    "# graphing    \n",
    "plt.scatter(elite_lst, elite_cost_lst)\n",
    "\n",
    "plt.title(\"Genetic Algorithm: Elite Ratio vs Costs\")\n",
    "plt.xlabel(\"Elite Ratio\")\n",
    "plt.ylabel(\"costs depending on elite ratio\")\n",
    "\n",
    "plt.show()"
   ]
  },
  {
   "cell_type": "code",
   "execution_count": null,
   "metadata": {},
   "outputs": [],
   "source": []
  }
 ],
 "metadata": {
  "kernelspec": {
   "display_name": "Python 3",
   "language": "python",
   "name": "python3"
  },
  "language_info": {
   "codemirror_mode": {
    "name": "ipython",
    "version": 3
   },
   "file_extension": ".py",
   "mimetype": "text/x-python",
   "name": "python",
   "nbconvert_exporter": "python",
   "pygments_lexer": "ipython3",
   "version": "3.8.3"
  }
 },
 "nbformat": 4,
 "nbformat_minor": 4
}
